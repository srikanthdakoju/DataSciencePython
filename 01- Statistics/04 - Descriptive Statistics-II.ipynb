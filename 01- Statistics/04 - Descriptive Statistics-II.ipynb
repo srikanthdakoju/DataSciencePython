{
 "cells": [
  {
   "cell_type": "markdown",
   "metadata": {},
   "source": [
    "# Measuring Variability and spread\n",
    "\n",
    "\n",
    "## \"Range\" to diffrentiate dataset\n",
    "\n",
    "So far we’ve looked at calculating averages for sets of data, but quite often, the average only gives part of the picture. Averages give us a way of determining where the center of a set of data is, but they don’t tell us how\n",
    "the data varies. Each player has the same average score, but there are clear differences between each data set. We need some other way of measuring these differences.\n",
    "\n",
    "<img src=\"./data/images/stat42.png\"> \n",
    "\n",
    "We can differentiate between each set of data by looking at the way in which the scores spread out from the average. Each player’s scores are distributed differently, and if we can measure how the scores are dispersed, the coach will be able to make a more informed decision.\n",
    "\n",
    "## Measuring the range\n",
    "\n",
    "We can easily do this by calculating the ***range***. The range tells us over how many numbers the data extends, a bit like measuring its width. To find the range, we take the largest number in the data set, and then subtract the smallest. The smallest value is called the ***lower bound***, and the largest value is the ***upper bound***.\n",
    "\n",
    "Let’s take a look at the set of scores for one of the players and see how this works. Here are the scores:\n",
    "\n",
    "<img src=\"./data/images/stat43.png\"> \n",
    "\n",
    "To calculate the range, we subtract the lower bound from the upper bound. Looking at the data, the smallest value is 7, which means that this is the lower bound. Similarly, the upper bound is the largest value,or 13. Subtracting the lower bound from the upper bound gives us:\n",
    "\n",
    "Range $=$ upper bound - lower bound\n",
    "\n",
    "      = 13 - 7\n",
    "       \n",
    "      = 6\n",
    "      \n",
    "      so, the range is 6\n",
    "      \n",
    "Note: *The range is a way of measuring how spread out a set of values are. It’s given by Upper bound - Lower bound\n",
    "where the upper bound is the highest value, and the lower bound the lowest.*"
   ]
  },
  {
   "cell_type": "code",
   "execution_count": 13,
   "metadata": {},
   "outputs": [],
   "source": [
    "# import required librarires\n",
    "import numpy as np\n",
    "import pandas as pd\n",
    "import matplotlib.pyplot as plt\n",
    "%matplotlib inline\n",
    "plt.style.use('fivethirtyeight')"
   ]
  },
  {
   "cell_type": "markdown",
   "metadata": {},
   "source": [
    "Importing India premere league dataset"
   ]
  },
  {
   "cell_type": "code",
   "execution_count": 14,
   "metadata": {},
   "outputs": [
    {
     "name": "stdout",
     "output_type": "stream",
     "text": [
      "Index(['Venue_Name', 'Won_By'], dtype='object')\n",
      "\n",
      "\n",
      "<class 'pandas.core.frame.DataFrame'>\n",
      "RangeIndex: 577 entries, 0 to 576\n",
      "Data columns (total 2 columns):\n",
      "Venue_Name    577 non-null object\n",
      "Won_By        568 non-null float64\n",
      "dtypes: float64(1), object(1)\n",
      "memory usage: 9.1+ KB\n",
      "None\n"
     ]
    },
    {
     "data": {
      "text/html": [
       "<div>\n",
       "<style scoped>\n",
       "    .dataframe tbody tr th:only-of-type {\n",
       "        vertical-align: middle;\n",
       "    }\n",
       "\n",
       "    .dataframe tbody tr th {\n",
       "        vertical-align: top;\n",
       "    }\n",
       "\n",
       "    .dataframe thead th {\n",
       "        text-align: right;\n",
       "    }\n",
       "</style>\n",
       "<table border=\"1\" class=\"dataframe\">\n",
       "  <thead>\n",
       "    <tr style=\"text-align: right;\">\n",
       "      <th></th>\n",
       "      <th>Venue_Name</th>\n",
       "      <th>Won_By</th>\n",
       "    </tr>\n",
       "  </thead>\n",
       "  <tbody>\n",
       "    <tr>\n",
       "      <th>0</th>\n",
       "      <td>M Chinnaswamy Stadium</td>\n",
       "      <td>140.0</td>\n",
       "    </tr>\n",
       "    <tr>\n",
       "      <th>1</th>\n",
       "      <td>Punjab Cricket Association Stadium, Mohali</td>\n",
       "      <td>33.0</td>\n",
       "    </tr>\n",
       "    <tr>\n",
       "      <th>2</th>\n",
       "      <td>Feroz Shah Kotla</td>\n",
       "      <td>9.0</td>\n",
       "    </tr>\n",
       "    <tr>\n",
       "      <th>3</th>\n",
       "      <td>Wankhede Stadium</td>\n",
       "      <td>5.0</td>\n",
       "    </tr>\n",
       "    <tr>\n",
       "      <th>4</th>\n",
       "      <td>Eden Gardens</td>\n",
       "      <td>5.0</td>\n",
       "    </tr>\n",
       "  </tbody>\n",
       "</table>\n",
       "</div>"
      ],
      "text/plain": [
       "                                   Venue_Name  Won_By\n",
       "0                       M Chinnaswamy Stadium   140.0\n",
       "1  Punjab Cricket Association Stadium, Mohali    33.0\n",
       "2                            Feroz Shah Kotla     9.0\n",
       "3                            Wankhede Stadium     5.0\n",
       "4                                Eden Gardens     5.0"
      ]
     },
     "execution_count": 14,
     "metadata": {},
     "output_type": "execute_result"
    }
   ],
   "source": [
    "dataset = pd.read_csv('./data/statistics/IPL_venue_won.csv')\n",
    "print(dataset.keys())\n",
    "print('\\n')\n",
    "print(dataset.info())\n",
    "\n",
    "dataset.head()"
   ]
  },
  {
   "cell_type": "markdown",
   "metadata": {},
   "source": [
    "Visualizing histogram"
   ]
  },
  {
   "cell_type": "code",
   "execution_count": 15,
   "metadata": {},
   "outputs": [
    {
     "data": {
      "text/plain": [
       "35"
      ]
     },
     "execution_count": 15,
     "metadata": {},
     "output_type": "execute_result"
    }
   ],
   "source": [
    "dataset['Venue_Name'].nunique()"
   ]
  },
  {
   "cell_type": "code",
   "execution_count": 16,
   "metadata": {},
   "outputs": [
    {
     "data": {
      "image/png": "[encoded data removed]",
      "text/plain": [
       "<matplotlib.figure.Figure at 0xf9b3450828>"
      ]
     },
     "metadata": {},
     "output_type": "display_data"
    }
   ],
   "source": [
    "plt.figure(figsize=(10,7))\n",
    "dataset['Won_By'].plot.hist(bins = 20)\n",
    "plt.xlabel('Won by runs')\n",
    "plt.show()"
   ]
  },
  {
   "cell_type": "code",
   "execution_count": 17,
   "metadata": {},
   "outputs": [
    {
     "name": "stdout",
     "output_type": "stream",
     "text": [
      "The Range of dataset is 143.0\n"
     ]
    }
   ],
   "source": [
    "Range = dataset['Won_By'].max() - dataset['Won_By'].min()\n",
    "print('The Range of dataset is {}'.format(Range))"
   ]
  },
  {
   "cell_type": "markdown",
   "metadata": {
    "scrolled": true
   },
   "source": [
    "The range is a simple way of saying what the spread of a set of data is, but it’s often not the best way of measuring how the data is distributed within that range. If your data has outliers, using the range to describe how your values are dispersed can be very misleading because of its sensitivity to **outliers**.\n",
    "\n",
    "The primary problem with the range is that it only describes the width of your data. Because the range is calculated using the most extreme values of the data, it’s impossible to tell what that data actually looks like—and whether it contains outliers. There are many different ways of constructing the same range, and sometimes this additional information is important."
   ]
  },
  {
   "cell_type": "markdown",
   "metadata": {},
   "source": [
    "# Box Plot"
   ]
  },
  {
   "cell_type": "code",
   "execution_count": 18,
   "metadata": {},
   "outputs": [
    {
     "data": {
      "image/png": "[encoded data removed]",
      "text/plain": [
       "<matplotlib.figure.Figure at 0xf9b6d5e470>"
      ]
     },
     "metadata": {},
     "output_type": "display_data"
    }
   ],
   "source": [
    "plt.figure(figsize=(10,5))\n",
    "dataset['Won_By'].plot.box(vert = False)\n",
    "plt.xlabel('Runs won by')\n",
    "plt.show()"
   ]
  },
  {
   "attachments": {
    "image.png": {
     "image/png": "[encoded data removed]"
    }
   },
   "cell_type": "markdown",
   "metadata": {},
   "source": [
    "# Variance\n",
    "\n",
    "The variance is a way of measuring spread, and it’s the average of the distance of values from the mean squared.\n",
    "\n",
    "This method of measuring spread is called the variance, and it’s a very common way of describing the spread of a set of data.\n",
    "Here’s a general form of the equation:\n",
    "![image.png](attachment:image.png)"
   ]
  },
  {
   "attachments": {
    "image.png": {
     "image/png": "[encoded data removed]"
    }
   },
   "cell_type": "markdown",
   "metadata": {},
   "source": [
    "# Standard Deviation\n",
    "Statisticians use the variance a lot as a means of measuring the spread of data. It’s useful because it uses every value to come up with the result, and it can be thought of as the average of the distances from the mean squared.\n",
    "\n",
    "All we need to do is take the square root of the variance. We call this the ***standard deviation***.\n",
    "\n",
    "![image.png](attachment:image.png)"
   ]
  },
  {
   "cell_type": "code",
   "execution_count": 19,
   "metadata": {},
   "outputs": [
    {
     "name": "stdout",
     "output_type": "stream",
     "text": [
      "Variance : Won_By    479.970511\n",
      "dtype: float64\n",
      "Standard Deviation : Won_By    21.908229\n",
      "dtype: float64\n"
     ]
    }
   ],
   "source": [
    "print('Variance :',dataset.var())\n",
    "print('Standard Deviation :',dataset.std())"
   ]
  },
  {
   "attachments": {
    "image.png": {
     "image/png": "[encoded data removed]"
    }
   },
   "cell_type": "markdown",
   "metadata": {},
   "source": [
    "# Z - Scores\n",
    "\n",
    "***Z – score is measure of distance from mean***. Units for Z- score is “standard deviation”It help to find answer for question below.\n",
    "\n",
    "How far is any given data point from the mean ? (Distance)\n",
    "\n",
    "    Z – score can help us answer\n",
    "\n",
    "How many standard deviation away (above and below) from the mean is a data point ?\n",
    "\n",
    "\n",
    "\n",
    "\n",
    "![image.png](attachment:image.png)"
   ]
  },
  {
   "cell_type": "code",
   "execution_count": 20,
   "metadata": {},
   "outputs": [
    {
     "data": {
      "text/html": [
       "<div>\n",
       "<style scoped>\n",
       "    .dataframe tbody tr th:only-of-type {\n",
       "        vertical-align: middle;\n",
       "    }\n",
       "\n",
       "    .dataframe tbody tr th {\n",
       "        vertical-align: top;\n",
       "    }\n",
       "\n",
       "    .dataframe thead th {\n",
       "        text-align: right;\n",
       "    }\n",
       "</style>\n",
       "<table border=\"1\" class=\"dataframe\">\n",
       "  <thead>\n",
       "    <tr style=\"text-align: right;\">\n",
       "      <th></th>\n",
       "      <th>Venue_Name</th>\n",
       "      <th>Won_By</th>\n",
       "    </tr>\n",
       "  </thead>\n",
       "  <tbody>\n",
       "    <tr>\n",
       "      <th>0</th>\n",
       "      <td>M Chinnaswamy Stadium</td>\n",
       "      <td>140.0</td>\n",
       "    </tr>\n",
       "    <tr>\n",
       "      <th>1</th>\n",
       "      <td>Punjab Cricket Association Stadium, Mohali</td>\n",
       "      <td>33.0</td>\n",
       "    </tr>\n",
       "    <tr>\n",
       "      <th>2</th>\n",
       "      <td>Feroz Shah Kotla</td>\n",
       "      <td>9.0</td>\n",
       "    </tr>\n",
       "    <tr>\n",
       "      <th>3</th>\n",
       "      <td>Wankhede Stadium</td>\n",
       "      <td>5.0</td>\n",
       "    </tr>\n",
       "    <tr>\n",
       "      <th>4</th>\n",
       "      <td>Eden Gardens</td>\n",
       "      <td>5.0</td>\n",
       "    </tr>\n",
       "  </tbody>\n",
       "</table>\n",
       "</div>"
      ],
      "text/plain": [
       "                                   Venue_Name  Won_By\n",
       "0                       M Chinnaswamy Stadium   140.0\n",
       "1  Punjab Cricket Association Stadium, Mohali    33.0\n",
       "2                            Feroz Shah Kotla     9.0\n",
       "3                            Wankhede Stadium     5.0\n",
       "4                                Eden Gardens     5.0"
      ]
     },
     "execution_count": 20,
     "metadata": {},
     "output_type": "execute_result"
    }
   ],
   "source": [
    "dataset.head()"
   ]
  },
  {
   "cell_type": "code",
   "execution_count": 21,
   "metadata": {},
   "outputs": [
    {
     "data": {
      "text/html": [
       "<div>\n",
       "<style scoped>\n",
       "    .dataframe tbody tr th:only-of-type {\n",
       "        vertical-align: middle;\n",
       "    }\n",
       "\n",
       "    .dataframe tbody tr th {\n",
       "        vertical-align: top;\n",
       "    }\n",
       "\n",
       "    .dataframe thead th {\n",
       "        text-align: right;\n",
       "    }\n",
       "</style>\n",
       "<table border=\"1\" class=\"dataframe\">\n",
       "  <thead>\n",
       "    <tr style=\"text-align: right;\">\n",
       "      <th></th>\n",
       "      <th>Venue_Name</th>\n",
       "      <th>Won_By</th>\n",
       "      <th>Z-Score</th>\n",
       "    </tr>\n",
       "  </thead>\n",
       "  <tbody>\n",
       "    <tr>\n",
       "      <th>0</th>\n",
       "      <td>M Chinnaswamy Stadium</td>\n",
       "      <td>140.0</td>\n",
       "      <td>5.598337</td>\n",
       "    </tr>\n",
       "    <tr>\n",
       "      <th>1</th>\n",
       "      <td>Punjab Cricket Association Stadium, Mohali</td>\n",
       "      <td>33.0</td>\n",
       "      <td>0.714327</td>\n",
       "    </tr>\n",
       "    <tr>\n",
       "      <th>2</th>\n",
       "      <td>Feroz Shah Kotla</td>\n",
       "      <td>9.0</td>\n",
       "      <td>-0.381151</td>\n",
       "    </tr>\n",
       "    <tr>\n",
       "      <th>3</th>\n",
       "      <td>Wankhede Stadium</td>\n",
       "      <td>5.0</td>\n",
       "      <td>-0.563731</td>\n",
       "    </tr>\n",
       "    <tr>\n",
       "      <th>4</th>\n",
       "      <td>Eden Gardens</td>\n",
       "      <td>5.0</td>\n",
       "      <td>-0.563731</td>\n",
       "    </tr>\n",
       "  </tbody>\n",
       "</table>\n",
       "</div>"
      ],
      "text/plain": [
       "                                   Venue_Name  Won_By   Z-Score\n",
       "0                       M Chinnaswamy Stadium   140.0  5.598337\n",
       "1  Punjab Cricket Association Stadium, Mohali    33.0  0.714327\n",
       "2                            Feroz Shah Kotla     9.0 -0.381151\n",
       "3                            Wankhede Stadium     5.0 -0.563731\n",
       "4                                Eden Gardens     5.0 -0.563731"
      ]
     },
     "execution_count": 21,
     "metadata": {},
     "output_type": "execute_result"
    }
   ],
   "source": [
    "dataset['Z-Score'] = (dataset['Won_By'] - dataset['Won_By'].mean())/ dataset['Won_By'].std()\n",
    "dataset.head()"
   ]
  },
  {
   "cell_type": "markdown",
   "metadata": {},
   "source": [
    "z score visualization"
   ]
  },
  {
   "cell_type": "code",
   "execution_count": 22,
   "metadata": {},
   "outputs": [
    {
     "data": {
      "image/png": "[encoded data removed]",
      "text/plain": [
       "<matplotlib.figure.Figure at 0xf9b6d8a2b0>"
      ]
     },
     "metadata": {},
     "output_type": "display_data"
    }
   ],
   "source": [
    "plt.figure(figsize=(10,5))\n",
    "ax = plt.gca()\n",
    "dataset['Z-Score'].plot.hist(ax = ax)\n",
    "plt.xlabel('Standard Deviation')\n",
    "plt.title('Z - Score')\n",
    "plt.show()\n"
   ]
  },
  {
   "cell_type": "code",
   "execution_count": 23,
   "metadata": {},
   "outputs": [
    {
     "data": {
      "image/png": "[encoded data removed]",
      "text/plain": [
       "<matplotlib.figure.Figure at 0xf9b6e3e828>"
      ]
     },
     "metadata": {},
     "output_type": "display_data"
    }
   ],
   "source": [
    "plt.figure(figsize=(15,5))\n",
    "ax = plt.gca()\n",
    "dataset['Z-Score'][:100].plot.bar(ax = ax)\n",
    "plt.ylabel('Standard Deviation')\n",
    "plt.title('Z - Score deviation for 1st 100 matches')\n",
    "plt.show()"
   ]
  },
  {
   "cell_type": "markdown",
   "metadata": {},
   "source": [
    "So,list of matches whos run be score is greater that **3 times standard deviation (outlier)** is:"
   ]
  },
  {
   "cell_type": "code",
   "execution_count": 26,
   "metadata": {},
   "outputs": [
    {
     "data": {
      "text/html": [
       "<div>\n",
       "<style scoped>\n",
       "    .dataframe tbody tr th:only-of-type {\n",
       "        vertical-align: middle;\n",
       "    }\n",
       "\n",
       "    .dataframe tbody tr th {\n",
       "        vertical-align: top;\n",
       "    }\n",
       "\n",
       "    .dataframe thead th {\n",
       "        text-align: right;\n",
       "    }\n",
       "</style>\n",
       "<table border=\"1\" class=\"dataframe\">\n",
       "  <thead>\n",
       "    <tr style=\"text-align: right;\">\n",
       "      <th></th>\n",
       "      <th>Venue_Name</th>\n",
       "      <th>Won_By</th>\n",
       "      <th>Z-Score</th>\n",
       "    </tr>\n",
       "  </thead>\n",
       "  <tbody>\n",
       "    <tr>\n",
       "      <th>0</th>\n",
       "      <td>M Chinnaswamy Stadium</td>\n",
       "      <td>140.0</td>\n",
       "      <td>5.598337</td>\n",
       "    </tr>\n",
       "    <tr>\n",
       "      <th>55</th>\n",
       "      <td>Wankhede Stadium</td>\n",
       "      <td>105.0</td>\n",
       "      <td>4.000764</td>\n",
       "    </tr>\n",
       "    <tr>\n",
       "      <th>62</th>\n",
       "      <td>St George's Park</td>\n",
       "      <td>92.0</td>\n",
       "      <td>3.407379</td>\n",
       "    </tr>\n",
       "    <tr>\n",
       "      <th>72</th>\n",
       "      <td>St George's Park</td>\n",
       "      <td>92.0</td>\n",
       "      <td>3.407379</td>\n",
       "    </tr>\n",
       "    <tr>\n",
       "      <th>123</th>\n",
       "      <td>Feroz Shah Kotla</td>\n",
       "      <td>98.0</td>\n",
       "      <td>3.681249</td>\n",
       "    </tr>\n",
       "    <tr>\n",
       "      <th>220</th>\n",
       "      <td>M Chinnaswamy Stadium</td>\n",
       "      <td>85.0</td>\n",
       "      <td>3.087865</td>\n",
       "    </tr>\n",
       "    <tr>\n",
       "      <th>236</th>\n",
       "      <td>Himachal Pradesh Cricket Association Stadium</td>\n",
       "      <td>111.0</td>\n",
       "      <td>4.274633</td>\n",
       "    </tr>\n",
       "    <tr>\n",
       "      <th>320</th>\n",
       "      <td>MA Chidambaram Stadium, Chepauk</td>\n",
       "      <td>86.0</td>\n",
       "      <td>3.133510</td>\n",
       "    </tr>\n",
       "    <tr>\n",
       "      <th>343</th>\n",
       "      <td>Sawai Mansingh Stadium</td>\n",
       "      <td>87.0</td>\n",
       "      <td>3.179155</td>\n",
       "    </tr>\n",
       "    <tr>\n",
       "      <th>344</th>\n",
       "      <td>Feroz Shah Kotla</td>\n",
       "      <td>86.0</td>\n",
       "      <td>3.133510</td>\n",
       "    </tr>\n",
       "    <tr>\n",
       "      <th>351</th>\n",
       "      <td>M Chinnaswamy Stadium</td>\n",
       "      <td>130.0</td>\n",
       "      <td>5.141887</td>\n",
       "    </tr>\n",
       "    <tr>\n",
       "      <th>405</th>\n",
       "      <td>Sheikh Zayed Stadium</td>\n",
       "      <td>93.0</td>\n",
       "      <td>3.453024</td>\n",
       "    </tr>\n",
       "    <tr>\n",
       "      <th>482</th>\n",
       "      <td>MA Chidambaram Stadium, Chepauk</td>\n",
       "      <td>97.0</td>\n",
       "      <td>3.635604</td>\n",
       "    </tr>\n",
       "    <tr>\n",
       "      <th>497</th>\n",
       "      <td>M Chinnaswamy Stadium</td>\n",
       "      <td>138.0</td>\n",
       "      <td>5.507047</td>\n",
       "    </tr>\n",
       "    <tr>\n",
       "      <th>553</th>\n",
       "      <td>Dr. Y.S. Rajasekhara Reddy ACA-VDCA Cricket St...</td>\n",
       "      <td>85.0</td>\n",
       "      <td>3.087865</td>\n",
       "    </tr>\n",
       "    <tr>\n",
       "      <th>560</th>\n",
       "      <td>M Chinnaswamy Stadium</td>\n",
       "      <td>144.0</td>\n",
       "      <td>5.780917</td>\n",
       "    </tr>\n",
       "  </tbody>\n",
       "</table>\n",
       "</div>"
      ],
      "text/plain": [
       "                                            Venue_Name  Won_By   Z-Score\n",
       "0                                M Chinnaswamy Stadium   140.0  5.598337\n",
       "55                                    Wankhede Stadium   105.0  4.000764\n",
       "62                                    St George's Park    92.0  3.407379\n",
       "72                                    St George's Park    92.0  3.407379\n",
       "123                                   Feroz Shah Kotla    98.0  3.681249\n",
       "220                              M Chinnaswamy Stadium    85.0  3.087865\n",
       "236       Himachal Pradesh Cricket Association Stadium   111.0  4.274633\n",
       "320                    MA Chidambaram Stadium, Chepauk    86.0  3.133510\n",
       "343                             Sawai Mansingh Stadium    87.0  3.179155\n",
       "344                                   Feroz Shah Kotla    86.0  3.133510\n",
       "351                              M Chinnaswamy Stadium   130.0  5.141887\n",
       "405                               Sheikh Zayed Stadium    93.0  3.453024\n",
       "482                    MA Chidambaram Stadium, Chepauk    97.0  3.635604\n",
       "497                              M Chinnaswamy Stadium   138.0  5.507047\n",
       "553  Dr. Y.S. Rajasekhara Reddy ACA-VDCA Cricket St...    85.0  3.087865\n",
       "560                              M Chinnaswamy Stadium   144.0  5.780917"
      ]
     },
     "execution_count": 26,
     "metadata": {},
     "output_type": "execute_result"
    }
   ],
   "source": [
    "dataset[dataset['Z-Score'] >= 3]"
   ]
  }
 ],
 "metadata": {
  "kernelspec": {
   "display_name": "Python 3",
   "language": "python",
   "name": "python3"
  },
  "language_info": {
   "codemirror_mode": {
    "name": "ipython",
    "version": 3
   },
   "file_extension": ".py",
   "mimetype": "text/x-python",
   "name": "python",
   "nbconvert_exporter": "python",
   "pygments_lexer": "ipython3",
   "version": "3.6.4"
  }
 },
 "nbformat": 4,
 "nbformat_minor": 2
}
