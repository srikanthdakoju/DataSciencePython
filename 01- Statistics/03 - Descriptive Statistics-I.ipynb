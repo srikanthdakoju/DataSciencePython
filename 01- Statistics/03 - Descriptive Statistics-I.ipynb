{
 "cells": [
  {
   "cell_type": "markdown",
   "metadata": {},
   "source": [
    "# Descriptive Statistics\n",
    "\n",
    "## What are 'Descriptive Statistics'\n",
    "\n",
    "Descriptive statistics are brief descriptive coefficients that summarize a given data set, which can be either a representation of the entire population or a sample of it. Descriptive statistics are broken down into \n",
    "- measures of central tendency and \n",
    "- measures of variability, or spread. \n",
    "\n",
    "Measures of central tendency include the **mean**, **median** and __mode__, while measures of variability include the standard deviation or variance, the minimum and maximum variables, and the kurtosis and skewness.\n",
    "\n",
    "## BREAKING DOWN 'Descriptive Statistics'\n",
    "\n",
    "Descriptive statistics, in short, help describe and understand the features of a specific data set, by giving short summaries about the sample and measures of the data. The most recognized types of descriptive statistics are the mean, median and mode, which are used at almost all levels of math and statistics. However, there are less-common types of descriptive statistics that are still very important.\n",
    "\n",
    "People use descriptive statistics to repurpose hard-to-understand quantitative insights across a large data set into bite-sized descriptions. A student's grade point average (GPA), for example, provides a good understanding of descriptive statistics. The idea of a GPA is that it takes data points from a wide range of exams, classes and grades, and averages them together to provide a general understanding of a student's overall academic abilities. A student's personal GPA reflects his mean academic performance.\n",
    "\n",
    "## Measures of Descriptive Statistics\n",
    "\n",
    "All descriptive statistics, whether they be the mean, median, mode, standard deviation, kurtosis or skewness, are either measures of central tendency or measures of variability. These two measures use graphs, tables and general discussions to help people understand the meaning of the data being analyzed.\n",
    "\n",
    "Measures of central tendency describe the center position of a distribution for a data set. A person analyzes the frequency of each data point in the distribution and describes it using the mean, median or mode, which measure the most common patterns of the data set being analyzed.\n",
    "\n",
    "Measures of variability, or the measures of spread, aid in analyzing how spread-out the distribution is for a set of data. For example, while the measures of central tendency may give a person the average of a data set, it doesn't describe how the data is distributed within the set. So, while the average of the data may be 65 out of 100, there can still be data points at both 1 and 100. Measures of variability help communicate this by describing the shape and spread of the data set. Range, quartiles, absolute deviation and variance are all examples of measures of variability.\n",
    "\n",
    "Read more: Descriptive Statistics https://www.investopedia.com/terms/d/descriptive_statistics.asp#ixzz5E5KbIGCe\n",
    "Follow us: Investopedia on Facebook\n",
    "\n",
    "\n",
    "# Mean\n",
    "\n",
    "We can use math notation to represent the mean.\n",
    "To find the mean of a group of numbers, we add them all together,\n",
    "and then divide by how many there are. We’ve already seen how to\n",
    "write summations, and we’ve also seen how statisticians refer to the\n",
    "total count of a set of numbers as n.\n",
    "If we put these together, we can write the mean as:\n",
    "\n",
    " $Σ \\frac{X}{n}$\n",
    "\n",
    "\n",
    "Question 1: Let's consider as farm has plant height as follows. Find arthematic mean using numpy and pandas\n",
    "\n",
    "|   Plant no    |   Height   |\n",
    "| ------------- |:----------:|\n",
    "|       1       |     5      |\n",
    "|       2       |     6      |\n",
    "|       3       |     3      |\n",
    "|       4       |     5      |\n",
    "|       5       |     4      |\n",
    "|       6       |     7      |\n",
    "|       7       |     9      |\n",
    "|       8       |     8      |\n",
    "|       9       |     5      |\n",
    "|       10      |     6      |\n",
    "|       11      |     4      |\n",
    "|       12      |     3      |\n",
    "|       13      |     4      |\n",
    "|       14      |     6      |\n",
    "|       15      |     5      |"
   ]
  },
  {
   "cell_type": "code",
   "execution_count": 1,
   "metadata": {},
   "outputs": [],
   "source": [
    "# import required librarires\n",
    "import numpy as np\n",
    "import pandas as pd\n",
    "import matplotlib.pyplot as plt\n",
    "%matplotlib inline\n",
    "plt.style.use('seaborn')"
   ]
  },
  {
   "cell_type": "code",
   "execution_count": 2,
   "metadata": {},
   "outputs": [],
   "source": [
    "my_plants = [5,6,3,5,4,5,7,8,5,6,4,3,4,6,5] # create list of plants\n",
    "plants = np.array(my_plants) # pass these values into numpy array\n",
    "plant_df = pd.DataFrame(data = plants) # pass either array or a list"
   ]
  },
  {
   "cell_type": "markdown",
   "metadata": {},
   "source": [
    "diplaying fist five rows of your plants height"
   ]
  },
  {
   "cell_type": "code",
   "execution_count": 3,
   "metadata": {
    "scrolled": true
   },
   "outputs": [
    {
     "data": {
      "text/html": [
       "<div>\n",
       "<style scoped>\n",
       "    .dataframe tbody tr th:only-of-type {\n",
       "        vertical-align: middle;\n",
       "    }\n",
       "\n",
       "    .dataframe tbody tr th {\n",
       "        vertical-align: top;\n",
       "    }\n",
       "\n",
       "    .dataframe thead th {\n",
       "        text-align: right;\n",
       "    }\n",
       "</style>\n",
       "<table border=\"1\" class=\"dataframe\">\n",
       "  <thead>\n",
       "    <tr style=\"text-align: right;\">\n",
       "      <th></th>\n",
       "      <th>0</th>\n",
       "    </tr>\n",
       "  </thead>\n",
       "  <tbody>\n",
       "    <tr>\n",
       "      <th>0</th>\n",
       "      <td>5</td>\n",
       "    </tr>\n",
       "    <tr>\n",
       "      <th>1</th>\n",
       "      <td>6</td>\n",
       "    </tr>\n",
       "    <tr>\n",
       "      <th>2</th>\n",
       "      <td>3</td>\n",
       "    </tr>\n",
       "    <tr>\n",
       "      <th>3</th>\n",
       "      <td>5</td>\n",
       "    </tr>\n",
       "    <tr>\n",
       "      <th>4</th>\n",
       "      <td>4</td>\n",
       "    </tr>\n",
       "  </tbody>\n",
       "</table>\n",
       "</div>"
      ],
      "text/plain": [
       "   0\n",
       "0  5\n",
       "1  6\n",
       "2  3\n",
       "3  5\n",
       "4  4"
      ]
     },
     "execution_count": 3,
     "metadata": {},
     "output_type": "execute_result"
    }
   ],
   "source": [
    "plant_df.head()"
   ]
  },
  {
   "cell_type": "markdown",
   "metadata": {},
   "source": [
    "visualizing information"
   ]
  },
  {
   "cell_type": "code",
   "execution_count": 4,
   "metadata": {},
   "outputs": [
    {
     "data": {
      "image/png": "[encoded data removed]",
      "text/plain": [
       "<Figure size 432x288 with 1 Axes>"
      ]
     },
     "metadata": {},
     "output_type": "display_data"
    },
    {
     "data": {
      "image/png": "[encoded data removed]",
      "text/plain": [
       "<Figure size 432x288 with 1 Axes>"
      ]
     },
     "metadata": {},
     "output_type": "display_data"
    }
   ],
   "source": [
    "plant_df.plot.hist(bins = 5)\n",
    "plant_df.plot.density()\n",
    "plt.show()"
   ]
  },
  {
   "cell_type": "code",
   "execution_count": 5,
   "metadata": {},
   "outputs": [
    {
     "name": "stdout",
     "output_type": "stream",
     "text": [
      "('The Arthemetic mean of the dataset is = ', 5.066666666666666)\n"
     ]
    }
   ],
   "source": [
    "plant_mean = plant_df.mean() # will return mean of the dataset\n",
    "# plant_mean = plants.mean() # it will also return mean \n",
    "print('The Arthemetic mean of the dataset is = ',plant_mean[0])"
   ]
  },
  {
   "cell_type": "markdown",
   "metadata": {},
   "source": [
    "## Data has Outlier\n",
    "\n",
    "Let's consider dataset of students Ages in a class. Find arthematic mean and sketch necessary plots.\n",
    "\n",
    "|      Name     |     Age    |\n",
    "| ------------- |:----------:|\n",
    "|   srikanth    |     27     |\n",
    "|   dakoju      |     26     |\n",
    "|   raghuram    |     24     |\n",
    "|   aaduri      |     24     |\n",
    "|   prasanth    |     25     |\n",
    "|   kohli       |     26     |\n",
    "|   ram         |     24     |\n",
    "|   einstein    |     146    |"
   ]
  },
  {
   "cell_type": "code",
   "execution_count": 6,
   "metadata": {},
   "outputs": [
    {
     "data": {
      "text/html": [
       "<div>\n",
       "<style scoped>\n",
       "    .dataframe tbody tr th:only-of-type {\n",
       "        vertical-align: middle;\n",
       "    }\n",
       "\n",
       "    .dataframe tbody tr th {\n",
       "        vertical-align: top;\n",
       "    }\n",
       "\n",
       "    .dataframe thead th {\n",
       "        text-align: right;\n",
       "    }\n",
       "</style>\n",
       "<table border=\"1\" class=\"dataframe\">\n",
       "  <thead>\n",
       "    <tr style=\"text-align: right;\">\n",
       "      <th></th>\n",
       "      <th>Age</th>\n",
       "    </tr>\n",
       "    <tr>\n",
       "      <th>Name</th>\n",
       "      <th></th>\n",
       "    </tr>\n",
       "  </thead>\n",
       "  <tbody>\n",
       "    <tr>\n",
       "      <th>srikanth</th>\n",
       "      <td>27</td>\n",
       "    </tr>\n",
       "    <tr>\n",
       "      <th>dakoju</th>\n",
       "      <td>26</td>\n",
       "    </tr>\n",
       "    <tr>\n",
       "      <th>raghuram</th>\n",
       "      <td>20</td>\n",
       "    </tr>\n",
       "    <tr>\n",
       "      <th>aaduri</th>\n",
       "      <td>30</td>\n",
       "    </tr>\n",
       "    <tr>\n",
       "      <th>prasanth</th>\n",
       "      <td>25</td>\n",
       "    </tr>\n",
       "    <tr>\n",
       "      <th>kohli</th>\n",
       "      <td>26</td>\n",
       "    </tr>\n",
       "    <tr>\n",
       "      <th>ram</th>\n",
       "      <td>29</td>\n",
       "    </tr>\n",
       "    <tr>\n",
       "      <th>einstein</th>\n",
       "      <td>45</td>\n",
       "    </tr>\n",
       "  </tbody>\n",
       "</table>\n",
       "</div>"
      ],
      "text/plain": [
       "          Age\n",
       "Name         \n",
       "srikanth   27\n",
       "dakoju     26\n",
       "raghuram   20\n",
       "aaduri     30\n",
       "prasanth   25\n",
       "kohli      26\n",
       "ram        29\n",
       "einstein   45"
      ]
     },
     "execution_count": 6,
     "metadata": {},
     "output_type": "execute_result"
    }
   ],
   "source": [
    "# creating an dictionary\n",
    "names = ['srikanth','dakoju','raghuram','aaduri','prasanth','kohli','ram','einstein']\n",
    "age  = [27,26,20,30,25,26,29,45]\n",
    "data = {'Name':names,\n",
    "       'Age':age}\n",
    "dataset = pd.DataFrame(data)\n",
    "dataset = dataset.set_index('Name')\n",
    "dataset"
   ]
  },
  {
   "cell_type": "markdown",
   "metadata": {},
   "source": [
    "plotting histogram"
   ]
  },
  {
   "cell_type": "code",
   "execution_count": 7,
   "metadata": {},
   "outputs": [
    {
     "data": {
      "image/png": "[encoded data removed]",
      "text/plain": [
       "<Figure size 432x288 with 1 Axes>"
      ]
     },
     "metadata": {},
     "output_type": "display_data"
    },
    {
     "data": {
      "image/png": "[encoded data removed]",
      "text/plain": [
       "<Figure size 432x288 with 1 Axes>"
      ]
     },
     "metadata": {},
     "output_type": "display_data"
    }
   ],
   "source": [
    "dataset.plot.hist(dataset,bins = 7)\n",
    "dataset.plot.density()\n",
    "plt.show()"
   ]
  },
  {
   "cell_type": "markdown",
   "metadata": {},
   "source": [
    "From above histogram ages over 40 are outliers. They're extreme values that don't really fit in with the bulk of the data.\n",
    "\n",
    "__Finding Outlier__:\n",
    "If you look at the data and chart, it's easy to see the most of the people in the class are around 25 years old. In fact, this would be the mean if the old people are not in the class. Unfortuanately, the presense of people who are way above the \"typical\" age of the class distrots the mean, pulling it upwards."
   ]
  },
  {
   "cell_type": "code",
   "execution_count": 8,
   "metadata": {},
   "outputs": [
    {
     "data": {
      "text/plain": [
       "Age    28.5\n",
       "dtype: float64"
      ]
     },
     "execution_count": 8,
     "metadata": {},
     "output_type": "execute_result"
    }
   ],
   "source": [
    "dataset.mean()"
   ]
  },
  {
   "cell_type": "markdown",
   "metadata": {},
   "source": [
    "As you can see the outlier have pulled the mean higher. This effect is caused by outliers in the data. When this happens, we say the datas is ***skewed***.\n",
    "Note: \n",
    "- An extreme high or low values that stands out from the rest of the data\n",
    "- Outliers 'pull' the data(distribution) to the left or right\n",
    "\n"
   ]
  },
  {
   "cell_type": "markdown",
   "metadata": {},
   "source": [
    "# Median\n",
    "\n",
    "If the mean becomes misleading because of skewed data and outliers, then we need some other way of saying what a typical value is. We can do this by, quite literally, taking the middle value. This is a different sort of average, and it’s called the ***median***.\n",
    "\n",
    "***The Median is always in the middle. It's the middle value***\n",
    "\n",
    "How to find the median in three steps.\n",
    "1. Line your numbers up in order, from smallest to largest.\n",
    "2. If you have an odd number of values, the median is the one in the middle. If you have n numbers, the middle number is at position $(n + 1) / 2$.\n",
    "3. If you have an even number of values, get the median by adding the two middle ones together and dividing by $2$. You can find the midpoint by calculating $(n + 1) / 2$. The two middle numbers are on either side of this point.\n",
    "\n",
    "Let's consider the dasetset and find meadian of the dataset.\n",
    "\n",
    "\n",
    "|      Name     | Srikanth   |   dakoju   | raghuram   |  aaduri    |  prasanth  |    kohli   |    ram     |einstein   | \n",
    "| ------------- |:----------:| ----------:| ----------:| ----------:| ----------:| ----------:| ----------:| ----------:|\n",
    "|      Age      |     27     |     26     |     24     |     24     |     25     |     26     |     24     |     45     |\n",
    "\n",
    "\n",
    "Step:1 Arrange number in order from smallest o largest"
   ]
  },
  {
   "cell_type": "code",
   "execution_count": 20,
   "metadata": {},
   "outputs": [
    {
     "name": "stdout",
     "output_type": "stream",
     "text": [
      "The sorted dataset is in asending order:\n",
      "\n",
      "[20 25 26 26 27 29 30 45]\n"
     ]
    }
   ],
   "source": [
    "ages = dataset['Age'].values # converting data into array\n",
    "ages.sort()\n",
    "print('The sorted dataset is in asending order:\\n')\n",
    "print(ages)"
   ]
  },
  {
   "cell_type": "markdown",
   "metadata": {},
   "source": [
    "Checking wether the dataset contains even or odd number of values"
   ]
  },
  {
   "cell_type": "code",
   "execution_count": 48,
   "metadata": {},
   "outputs": [
    {
     "name": "stdout",
     "output_type": "stream",
     "text": [
      "Dataset has even number of values \n",
      "position of middle value (n+1)/2: 3,4\n",
      "Hence median is 26.5\n"
     ]
    }
   ],
   "source": [
    "if len(ages) % 2 == 0:\n",
    "    print('Dataset has even number of values ')\n",
    "    print('position of middle value (n+1)/2: {},{}'.format(int((len(ages)+1)/2)-1 ,\n",
    "                                                           int((len(ages)+1)/2)))\n",
    "    \n",
    "    median_value = np.add(ages[int((len(ages)+1)/2)-1] , \n",
    "                          ages[int((len(ages)+1)/2)])/2.0\n",
    "    print('Hence median is {}'.format(median_value))\n",
    "          \n",
    "else:\n",
    "    print('Dataset has odd| number of values ')\n",
    "    print('position of middle value (n+1)/2:' , ((len(ages)+1)/2)-1)\n",
    "    median_value = ages[int((len(ages)+1)/2)-1]\n",
    "    print('Hence median is {}'.format(median_value))"
   ]
  },
  {
   "cell_type": "markdown",
   "metadata": {},
   "source": [
    "we can also find the median using *pandas.Dataframe* "
   ]
  },
  {
   "cell_type": "code",
   "execution_count": 44,
   "metadata": {},
   "outputs": [
    {
     "data": {
      "text/plain": [
       "Age    26.5\n",
       "dtype: float64"
      ]
     },
     "execution_count": 44,
     "metadata": {},
     "output_type": "execute_result"
    }
   ],
   "source": [
    "dataset.median()"
   ]
  },
  {
   "cell_type": "markdown",
   "metadata": {},
   "source": [
    "# What went wrong with the mean and median ?\n",
    "\n",
    "Let's take a closer look at what's going on.\n",
    "\n",
    "Here are the ages of people who go to the Little Duckling class\n",
    "\n",
    "<img src=\"./data/images/stat39.png\">\n",
    "\n",
    "The mean and median for the class are both 17, even though there are no 17-year-olds in the class!\n",
    "\n",
    "**What should we do for data like this?**"
   ]
  },
  {
   "cell_type": "markdown",
   "metadata": {},
   "source": [
    "# Introduction to Mode\n",
    "\n",
    "In addition to the mean and median, there’s a third type of average called the ***mode***. The mode of a set of data is the most popular value, the value with the highest frequency. Unlike the mean and median, the mode absolutely has to be a value in the data set, and it’s the most frequent value.\n",
    "\n",
    "Sometimes data can have more than one mode. If there is more than one value with the highest frequency, then each\n",
    "one of these values is a mode. If the data looks as though it’s representing more than one trend or set of data, then we can give a mode for each set. If a set of data has two modes, then we call the data ***bimodal***.\n",
    "\n",
    "**It even work with Categorical Data**\n",
    "The mode doesn’t just work with numeric data; it works with categorical data, too. In fact, it’s the only sort of average that works with categorical data. When you’re dealing with categorical data, the mode is the most frequently occurring category. You can also use it to specify the highest frequency group of values. The category or group with the highest frequency is called the modal class.\n",
    "\n",
    "<img src=\"./data/images/stat40.png\">\n",
    "\n",
    "**Three Steps for finding the mode**\n",
    "\n",
    "1. Find all the distinct categories or values in your set of data.\n",
    "2. Write down the frequency of each value or category.\n",
    "3. Pick out the one(s) with the highest frequency to get the mode.\n",
    "\n",
    "\n",
    "<img src=\"./data/images/stat41.png\">\n"
   ]
  },
  {
   "cell_type": "markdown",
   "metadata": {},
   "source": [
    "**Assignment**\n",
    "\n",
    "The generous CEO of Starbuzz Coffee wants to give all his employees a  pay raise. He’s not sure whether to give everyone a straight \\$2,000 raise, or whether to increase salaries by 10 $ percent $. The mean salary is \\$50,000, the\n",
    "median is \\$20,000, and the mode is \\$10,000.\n",
    "\n",
    "1) What happens to the mean, median, and mode if everyone at Starbuzz is given a \\$2,000 pay raise?\n",
    "\n",
    "2) What happens to the mean, median, and mode if everyone at Starbuzz is given a 10 $ percent $ pay raise instead?\n",
    "\n",
    "3) Which sort of pay raise would you prefer if you were earning the mean wage? What about if you were on\n",
    "the same wage as the mode?"
   ]
  },
  {
   "cell_type": "code",
   "execution_count": null,
   "metadata": {},
   "outputs": [],
   "source": []
  }
 ],
 "metadata": {
  "kernelspec": {
   "display_name": "Python 3",
   "language": "python",
   "name": "python3"
  },
  "language_info": {
   "codemirror_mode": {
    "name": "ipython",
    "version": 3
   },
   "file_extension": ".py",
   "mimetype": "text/x-python",
   "name": "python",
   "nbconvert_exporter": "python",
   "pygments_lexer": "ipython3",
   "version": "3.6.4"
  }
 },
 "nbformat": 4,
 "nbformat_minor": 2
}
